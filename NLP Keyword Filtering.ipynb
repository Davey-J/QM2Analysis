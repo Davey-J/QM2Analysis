{
 "cells": [
  {
   "cell_type": "code",
   "execution_count": 2,
   "id": "initial_id",
   "metadata": {
    "collapsed": true,
    "ExecuteTime": {
     "end_time": "2024-01-07T17:10:06.273880300Z",
     "start_time": "2024-01-07T17:09:57.609923900Z"
    }
   },
   "outputs": [],
   "source": [
    "import pandas as pd\n",
    "import numpy as np\n",
    "import matplotlib.pyplot as plt\n",
    "import spacy\n",
    "import re\n",
    "from spacytextblob.spacytextblob import SpacyTextBlob\n",
    "from tqdm import tqdm\n",
    "from tqdm.auto import tqdm \n",
    "\n",
    "plt.rcParams[\"figure.figsize\"] = (12,8)\n",
    "tqdm.pandas()"
   ]
  },
  {
   "cell_type": "code",
   "execution_count": 19,
   "outputs": [
    {
     "data": {
      "text/plain": "          User ID    Tweet ID  \\\n0        22077441  9807469480   \n1        22077441  9805735171   \n2        22077441  9800834089   \n3        22077441  9797095168   \n4        22077441  9796762943   \n...           ...         ...   \n2450509  73016661  8082730603   \n2450510  73016661  8081316956   \n2450511  73016661  8076088351   \n2450512  73016661  8075627082   \n2450513  73016661  8075339471   \n\n                                                      Text  \\\n0        Planet earth is truely amazing!!! I love watch...   \n1        Aww I want someone to say this to me one day :...   \n2        I love these  cheetoes commercials!! Too funny...   \n3        Aww my lil sis got her first pattern so she ca...   \n4        I HATE being sick.. It sucks all of the energy...   \n...                                                    ...   \n2450509                                @NYCsocialit3 nun u   \n2450510  RT @BonesThisWorld: A trip too harlem for a fe...   \n2450511                               @Uniquehope was good   \n2450512           @DaStar6MFM lmaooo yea dat shit is crazy   \n2450513                          @RichKidLife lol I feel u   \n\n                        Date        lat        lon   Date Only  Sentiment  \\\n0        2010-02-28 21:25:41  43.009815 -83.710408  2010-02-28   0.854167   \n1        2010-02-28 20:44:41  43.009815 -83.710408  2010-02-28   0.211111   \n2        2010-02-28 18:43:00  43.009815 -83.710408  2010-02-28   0.515625   \n3        2010-02-28 17:09:03  43.009815 -83.710408  2010-02-28   0.262500   \n4        2010-02-28 17:02:09  43.009815 -83.710408  2010-02-28  -0.604762   \n...                      ...        ...        ...         ...        ...   \n2450509  2010-01-22 14:14:30  40.627262 -73.926384  2010-01-22   0.000000   \n2450510  2010-01-22 13:28:51  40.627262 -73.926384  2010-01-22  -0.200000   \n2450511  2010-01-22 10:53:13  40.627262 -73.926384  2010-01-22   0.700000   \n2450512  2010-01-22 10:40:05  40.627262 -73.926384  2010-01-22  -0.400000   \n2450513  2010-01-22 10:31:59  40.627262 -73.926384  2010-01-22   0.800000   \n\n         Subjectivity  \n0            0.833333  \n1            0.688889  \n2            0.800000  \n3            0.583333  \n4            0.685714  \n...               ...  \n2450509      0.000000  \n2450510      0.100000  \n2450511      0.600000  \n2450512      0.850000  \n2450513      0.700000  \n\n[2450514 rows x 9 columns]",
      "text/html": "<div>\n<style scoped>\n    .dataframe tbody tr th:only-of-type {\n        vertical-align: middle;\n    }\n\n    .dataframe tbody tr th {\n        vertical-align: top;\n    }\n\n    .dataframe thead th {\n        text-align: right;\n    }\n</style>\n<table border=\"1\" class=\"dataframe\">\n  <thead>\n    <tr style=\"text-align: right;\">\n      <th></th>\n      <th>User ID</th>\n      <th>Tweet ID</th>\n      <th>Text</th>\n      <th>Date</th>\n      <th>lat</th>\n      <th>lon</th>\n      <th>Date Only</th>\n      <th>Sentiment</th>\n      <th>Subjectivity</th>\n    </tr>\n  </thead>\n  <tbody>\n    <tr>\n      <th>0</th>\n      <td>22077441</td>\n      <td>9807469480</td>\n      <td>Planet earth is truely amazing!!! I love watch...</td>\n      <td>2010-02-28 21:25:41</td>\n      <td>43.009815</td>\n      <td>-83.710408</td>\n      <td>2010-02-28</td>\n      <td>0.854167</td>\n      <td>0.833333</td>\n    </tr>\n    <tr>\n      <th>1</th>\n      <td>22077441</td>\n      <td>9805735171</td>\n      <td>Aww I want someone to say this to me one day :...</td>\n      <td>2010-02-28 20:44:41</td>\n      <td>43.009815</td>\n      <td>-83.710408</td>\n      <td>2010-02-28</td>\n      <td>0.211111</td>\n      <td>0.688889</td>\n    </tr>\n    <tr>\n      <th>2</th>\n      <td>22077441</td>\n      <td>9800834089</td>\n      <td>I love these  cheetoes commercials!! Too funny...</td>\n      <td>2010-02-28 18:43:00</td>\n      <td>43.009815</td>\n      <td>-83.710408</td>\n      <td>2010-02-28</td>\n      <td>0.515625</td>\n      <td>0.800000</td>\n    </tr>\n    <tr>\n      <th>3</th>\n      <td>22077441</td>\n      <td>9797095168</td>\n      <td>Aww my lil sis got her first pattern so she ca...</td>\n      <td>2010-02-28 17:09:03</td>\n      <td>43.009815</td>\n      <td>-83.710408</td>\n      <td>2010-02-28</td>\n      <td>0.262500</td>\n      <td>0.583333</td>\n    </tr>\n    <tr>\n      <th>4</th>\n      <td>22077441</td>\n      <td>9796762943</td>\n      <td>I HATE being sick.. It sucks all of the energy...</td>\n      <td>2010-02-28 17:02:09</td>\n      <td>43.009815</td>\n      <td>-83.710408</td>\n      <td>2010-02-28</td>\n      <td>-0.604762</td>\n      <td>0.685714</td>\n    </tr>\n    <tr>\n      <th>...</th>\n      <td>...</td>\n      <td>...</td>\n      <td>...</td>\n      <td>...</td>\n      <td>...</td>\n      <td>...</td>\n      <td>...</td>\n      <td>...</td>\n      <td>...</td>\n    </tr>\n    <tr>\n      <th>2450509</th>\n      <td>73016661</td>\n      <td>8082730603</td>\n      <td>@NYCsocialit3 nun u</td>\n      <td>2010-01-22 14:14:30</td>\n      <td>40.627262</td>\n      <td>-73.926384</td>\n      <td>2010-01-22</td>\n      <td>0.000000</td>\n      <td>0.000000</td>\n    </tr>\n    <tr>\n      <th>2450510</th>\n      <td>73016661</td>\n      <td>8081316956</td>\n      <td>RT @BonesThisWorld: A trip too harlem for a fe...</td>\n      <td>2010-01-22 13:28:51</td>\n      <td>40.627262</td>\n      <td>-73.926384</td>\n      <td>2010-01-22</td>\n      <td>-0.200000</td>\n      <td>0.100000</td>\n    </tr>\n    <tr>\n      <th>2450511</th>\n      <td>73016661</td>\n      <td>8076088351</td>\n      <td>@Uniquehope was good</td>\n      <td>2010-01-22 10:53:13</td>\n      <td>40.627262</td>\n      <td>-73.926384</td>\n      <td>2010-01-22</td>\n      <td>0.700000</td>\n      <td>0.600000</td>\n    </tr>\n    <tr>\n      <th>2450512</th>\n      <td>73016661</td>\n      <td>8075627082</td>\n      <td>@DaStar6MFM lmaooo yea dat shit is crazy</td>\n      <td>2010-01-22 10:40:05</td>\n      <td>40.627262</td>\n      <td>-73.926384</td>\n      <td>2010-01-22</td>\n      <td>-0.400000</td>\n      <td>0.850000</td>\n    </tr>\n    <tr>\n      <th>2450513</th>\n      <td>73016661</td>\n      <td>8075339471</td>\n      <td>@RichKidLife lol I feel u</td>\n      <td>2010-01-22 10:31:59</td>\n      <td>40.627262</td>\n      <td>-73.926384</td>\n      <td>2010-01-22</td>\n      <td>0.800000</td>\n      <td>0.700000</td>\n    </tr>\n  </tbody>\n</table>\n<p>2450514 rows × 9 columns</p>\n</div>"
     },
     "execution_count": 19,
     "metadata": {},
     "output_type": "execute_result"
    }
   ],
   "source": [
    "tweet_data = pd.read_csv('Data/sentiment_analysed.csv')\n",
    "tweet_data = tweet_data.drop(columns=['Unnamed: 0','Haiti Mentioned','Chile Mentioned','Pray Mentioned','Donate Mentioned'])\n",
    "tweet_data"
   ],
   "metadata": {
    "collapsed": false,
    "ExecuteTime": {
     "end_time": "2024-01-07T17:42:48.207756600Z",
     "start_time": "2024-01-07T17:42:40.259911500Z"
    }
   },
   "id": "75e9caef017cedf8"
  },
  {
   "cell_type": "code",
   "execution_count": 20,
   "outputs": [
    {
     "data": {
      "text/plain": "          User ID    Tweet ID  \\\n0        22077441  9807469480   \n1        22077441  9805735171   \n2        22077441  9800834089   \n3        22077441  9797095168   \n4        22077441  9796762943   \n...           ...         ...   \n2450509  73016661  8082730603   \n2450510  73016661  8081316956   \n2450511  73016661  8076088351   \n2450512  73016661  8075627082   \n2450513  73016661  8075339471   \n\n                                                      Text   Date Only  \\\n0        Planet earth is truely amazing!!! I love watch...  2010-02-28   \n1        Aww I want someone to say this to me one day :...  2010-02-28   \n2        I love these  cheetoes commercials!! Too funny...  2010-02-28   \n3        Aww my lil sis got her first pattern so she ca...  2010-02-28   \n4        I HATE being sick.. It sucks all of the energy...  2010-02-28   \n...                                                    ...         ...   \n2450509                                @NYCsocialit3 nun u  2010-01-22   \n2450510  RT @BonesThisWorld: A trip too harlem for a fe...  2010-01-22   \n2450511                               @Uniquehope was good  2010-01-22   \n2450512           @DaStar6MFM lmaooo yea dat shit is crazy  2010-01-22   \n2450513                          @RichKidLife lol I feel u  2010-01-22   \n\n                        Date        lat        lon  Sentiment  Subjectivity  \n0        2010-02-28 21:25:41  43.009815 -83.710408   0.854167      0.833333  \n1        2010-02-28 20:44:41  43.009815 -83.710408   0.211111      0.688889  \n2        2010-02-28 18:43:00  43.009815 -83.710408   0.515625      0.800000  \n3        2010-02-28 17:09:03  43.009815 -83.710408   0.262500      0.583333  \n4        2010-02-28 17:02:09  43.009815 -83.710408  -0.604762      0.685714  \n...                      ...        ...        ...        ...           ...  \n2450509  2010-01-22 14:14:30  40.627262 -73.926384   0.000000      0.000000  \n2450510  2010-01-22 13:28:51  40.627262 -73.926384  -0.200000      0.100000  \n2450511  2010-01-22 10:53:13  40.627262 -73.926384   0.700000      0.600000  \n2450512  2010-01-22 10:40:05  40.627262 -73.926384  -0.400000      0.850000  \n2450513  2010-01-22 10:31:59  40.627262 -73.926384   0.800000      0.700000  \n\n[2450514 rows x 9 columns]",
      "text/html": "<div>\n<style scoped>\n    .dataframe tbody tr th:only-of-type {\n        vertical-align: middle;\n    }\n\n    .dataframe tbody tr th {\n        vertical-align: top;\n    }\n\n    .dataframe thead th {\n        text-align: right;\n    }\n</style>\n<table border=\"1\" class=\"dataframe\">\n  <thead>\n    <tr style=\"text-align: right;\">\n      <th></th>\n      <th>User ID</th>\n      <th>Tweet ID</th>\n      <th>Text</th>\n      <th>Date Only</th>\n      <th>Date</th>\n      <th>lat</th>\n      <th>lon</th>\n      <th>Sentiment</th>\n      <th>Subjectivity</th>\n    </tr>\n  </thead>\n  <tbody>\n    <tr>\n      <th>0</th>\n      <td>22077441</td>\n      <td>9807469480</td>\n      <td>Planet earth is truely amazing!!! I love watch...</td>\n      <td>2010-02-28</td>\n      <td>2010-02-28 21:25:41</td>\n      <td>43.009815</td>\n      <td>-83.710408</td>\n      <td>0.854167</td>\n      <td>0.833333</td>\n    </tr>\n    <tr>\n      <th>1</th>\n      <td>22077441</td>\n      <td>9805735171</td>\n      <td>Aww I want someone to say this to me one day :...</td>\n      <td>2010-02-28</td>\n      <td>2010-02-28 20:44:41</td>\n      <td>43.009815</td>\n      <td>-83.710408</td>\n      <td>0.211111</td>\n      <td>0.688889</td>\n    </tr>\n    <tr>\n      <th>2</th>\n      <td>22077441</td>\n      <td>9800834089</td>\n      <td>I love these  cheetoes commercials!! Too funny...</td>\n      <td>2010-02-28</td>\n      <td>2010-02-28 18:43:00</td>\n      <td>43.009815</td>\n      <td>-83.710408</td>\n      <td>0.515625</td>\n      <td>0.800000</td>\n    </tr>\n    <tr>\n      <th>3</th>\n      <td>22077441</td>\n      <td>9797095168</td>\n      <td>Aww my lil sis got her first pattern so she ca...</td>\n      <td>2010-02-28</td>\n      <td>2010-02-28 17:09:03</td>\n      <td>43.009815</td>\n      <td>-83.710408</td>\n      <td>0.262500</td>\n      <td>0.583333</td>\n    </tr>\n    <tr>\n      <th>4</th>\n      <td>22077441</td>\n      <td>9796762943</td>\n      <td>I HATE being sick.. It sucks all of the energy...</td>\n      <td>2010-02-28</td>\n      <td>2010-02-28 17:02:09</td>\n      <td>43.009815</td>\n      <td>-83.710408</td>\n      <td>-0.604762</td>\n      <td>0.685714</td>\n    </tr>\n    <tr>\n      <th>...</th>\n      <td>...</td>\n      <td>...</td>\n      <td>...</td>\n      <td>...</td>\n      <td>...</td>\n      <td>...</td>\n      <td>...</td>\n      <td>...</td>\n      <td>...</td>\n    </tr>\n    <tr>\n      <th>2450509</th>\n      <td>73016661</td>\n      <td>8082730603</td>\n      <td>@NYCsocialit3 nun u</td>\n      <td>2010-01-22</td>\n      <td>2010-01-22 14:14:30</td>\n      <td>40.627262</td>\n      <td>-73.926384</td>\n      <td>0.000000</td>\n      <td>0.000000</td>\n    </tr>\n    <tr>\n      <th>2450510</th>\n      <td>73016661</td>\n      <td>8081316956</td>\n      <td>RT @BonesThisWorld: A trip too harlem for a fe...</td>\n      <td>2010-01-22</td>\n      <td>2010-01-22 13:28:51</td>\n      <td>40.627262</td>\n      <td>-73.926384</td>\n      <td>-0.200000</td>\n      <td>0.100000</td>\n    </tr>\n    <tr>\n      <th>2450511</th>\n      <td>73016661</td>\n      <td>8076088351</td>\n      <td>@Uniquehope was good</td>\n      <td>2010-01-22</td>\n      <td>2010-01-22 10:53:13</td>\n      <td>40.627262</td>\n      <td>-73.926384</td>\n      <td>0.700000</td>\n      <td>0.600000</td>\n    </tr>\n    <tr>\n      <th>2450512</th>\n      <td>73016661</td>\n      <td>8075627082</td>\n      <td>@DaStar6MFM lmaooo yea dat shit is crazy</td>\n      <td>2010-01-22</td>\n      <td>2010-01-22 10:40:05</td>\n      <td>40.627262</td>\n      <td>-73.926384</td>\n      <td>-0.400000</td>\n      <td>0.850000</td>\n    </tr>\n    <tr>\n      <th>2450513</th>\n      <td>73016661</td>\n      <td>8075339471</td>\n      <td>@RichKidLife lol I feel u</td>\n      <td>2010-01-22</td>\n      <td>2010-01-22 10:31:59</td>\n      <td>40.627262</td>\n      <td>-73.926384</td>\n      <td>0.800000</td>\n      <td>0.700000</td>\n    </tr>\n  </tbody>\n</table>\n<p>2450514 rows × 9 columns</p>\n</div>"
     },
     "execution_count": 20,
     "metadata": {},
     "output_type": "execute_result"
    }
   ],
   "source": [
    "tweet_data = tweet_data.reindex(columns=['User ID','Tweet ID','Text','Date Only','Date','lat','lon','Sentiment','Subjectivity'])\n",
    "tweet_data"
   ],
   "metadata": {
    "collapsed": false,
    "ExecuteTime": {
     "end_time": "2024-01-07T17:43:00.576326800Z",
     "start_time": "2024-01-07T17:43:00.457406200Z"
    }
   },
   "id": "bc1c453f2063c866"
  },
  {
   "cell_type": "code",
   "execution_count": 21,
   "outputs": [],
   "source": [
    "tweet_data['Haiti Mentioned'] = tweet_data['Text'].str.count(r'Haiti|haiti')\n",
    "tweet_data['Chile Mentioned'] = tweet_data['Text'].str.count(r'Chile|chile')\n",
    "tweet_data['Pray Mentioned'] = tweet_data['Text'].str.count(r'Pray|pray')\n",
    "tweet_data['Donate Mentioned'] = tweet_data['Text'].str.count(r'Donat|donat')\n",
    "tweet_data['Obama Mentioned'] = tweet_data['Text'].str.count(r'[Oo]bama')\n",
    "tweet_data['US Mentioned'] = tweet_data['Text'].str.count(r'US|USA|America')"
   ],
   "metadata": {
    "collapsed": false,
    "ExecuteTime": {
     "end_time": "2024-01-07T17:43:20.840398500Z",
     "start_time": "2024-01-07T17:43:08.157214100Z"
    }
   },
   "id": "38356a7b115473fb"
  },
  {
   "cell_type": "code",
   "execution_count": 22,
   "outputs": [],
   "source": [
    "tweet_data['Thoughts and Prayers'] = tweet_data['Text'].str.count(r'[Tt]houghts and [Pp]rayers')"
   ],
   "metadata": {
    "collapsed": false,
    "ExecuteTime": {
     "end_time": "2024-01-07T17:43:27.026761500Z",
     "start_time": "2024-01-07T17:43:24.543408600Z"
    }
   },
   "id": "8a1c5c571377a4d1"
  },
  {
   "cell_type": "code",
   "execution_count": 29,
   "outputs": [],
   "source": [
    "tweet_data['Is Retweet'] = tweet_data['Text'].str.count(r'^RT')\n",
    "tweet_data['Is Reply'] = tweet_data['Text'].str.count(r'^@')\n",
    "tweet_data['Directed ats'] = tweet_data['Text'].str.count(r'@')\n",
    "tweet_data['Hashtags Used'] = tweet_data['Text'].str.count(r'#')"
   ],
   "metadata": {
    "collapsed": false,
    "ExecuteTime": {
     "end_time": "2024-01-07T17:49:35.877503400Z",
     "start_time": "2024-01-07T17:49:30.331963200Z"
    }
   },
   "id": "27932b77aba06337"
  },
  {
   "cell_type": "code",
   "execution_count": 30,
   "outputs": [
    {
     "data": {
      "text/plain": "          User ID    Tweet ID  \\\n0        22077441  9807469480   \n1        22077441  9805735171   \n2        22077441  9800834089   \n3        22077441  9797095168   \n4        22077441  9796762943   \n...           ...         ...   \n2450509  73016661  8082730603   \n2450510  73016661  8081316956   \n2450511  73016661  8076088351   \n2450512  73016661  8075627082   \n2450513  73016661  8075339471   \n\n                                                      Text   Date Only  \\\n0        Planet earth is truely amazing!!! I love watch...  2010-02-28   \n1        Aww I want someone to say this to me one day :...  2010-02-28   \n2        I love these  cheetoes commercials!! Too funny...  2010-02-28   \n3        Aww my lil sis got her first pattern so she ca...  2010-02-28   \n4        I HATE being sick.. It sucks all of the energy...  2010-02-28   \n...                                                    ...         ...   \n2450509                                @NYCsocialit3 nun u  2010-01-22   \n2450510  RT @BonesThisWorld: A trip too harlem for a fe...  2010-01-22   \n2450511                               @Uniquehope was good  2010-01-22   \n2450512           @DaStar6MFM lmaooo yea dat shit is crazy  2010-01-22   \n2450513                          @RichKidLife lol I feel u  2010-01-22   \n\n                        Date        lat        lon  Sentiment  Subjectivity  \\\n0        2010-02-28 21:25:41  43.009815 -83.710408   0.854167      0.833333   \n1        2010-02-28 20:44:41  43.009815 -83.710408   0.211111      0.688889   \n2        2010-02-28 18:43:00  43.009815 -83.710408   0.515625      0.800000   \n3        2010-02-28 17:09:03  43.009815 -83.710408   0.262500      0.583333   \n4        2010-02-28 17:02:09  43.009815 -83.710408  -0.604762      0.685714   \n...                      ...        ...        ...        ...           ...   \n2450509  2010-01-22 14:14:30  40.627262 -73.926384   0.000000      0.000000   \n2450510  2010-01-22 13:28:51  40.627262 -73.926384  -0.200000      0.100000   \n2450511  2010-01-22 10:53:13  40.627262 -73.926384   0.700000      0.600000   \n2450512  2010-01-22 10:40:05  40.627262 -73.926384  -0.400000      0.850000   \n2450513  2010-01-22 10:31:59  40.627262 -73.926384   0.800000      0.700000   \n\n         Haiti Mentioned  ...  Pray Mentioned  Donate Mentioned  \\\n0                    0.0  ...             0.0               0.0   \n1                    0.0  ...             0.0               0.0   \n2                    0.0  ...             0.0               0.0   \n3                    0.0  ...             0.0               0.0   \n4                    0.0  ...             0.0               0.0   \n...                  ...  ...             ...               ...   \n2450509              0.0  ...             0.0               0.0   \n2450510              0.0  ...             0.0               0.0   \n2450511              0.0  ...             0.0               0.0   \n2450512              0.0  ...             0.0               0.0   \n2450513              0.0  ...             0.0               0.0   \n\n         Obama Mentioned  US Mentioned  Thoughts and Prayers  Is Retweet  \\\n0                    0.0           0.0                   0.0         0.0   \n1                    0.0           0.0                   0.0         0.0   \n2                    0.0           0.0                   0.0         0.0   \n3                    0.0           0.0                   0.0         0.0   \n4                    0.0           0.0                   0.0         0.0   \n...                  ...           ...                   ...         ...   \n2450509              0.0           0.0                   0.0         0.0   \n2450510              0.0           0.0                   0.0         1.0   \n2450511              0.0           0.0                   0.0         0.0   \n2450512              0.0           0.0                   0.0         0.0   \n2450513              0.0           0.0                   0.0         0.0   \n\n         Is Reply  Is Directed Hashtags Used  Directed ats  \n0             0.0        False           0.0           0.0  \n1             0.0         True           0.0           1.0  \n2             0.0        False           0.0           0.0  \n3             0.0        False           0.0           0.0  \n4             0.0        False           0.0           0.0  \n...           ...          ...           ...           ...  \n2450509       1.0         True           0.0           1.0  \n2450510       0.0         True           0.0           1.0  \n2450511       1.0         True           0.0           1.0  \n2450512       1.0         True           0.0           1.0  \n2450513       1.0         True           0.0           1.0  \n\n[2450514 rows x 21 columns]",
      "text/html": "<div>\n<style scoped>\n    .dataframe tbody tr th:only-of-type {\n        vertical-align: middle;\n    }\n\n    .dataframe tbody tr th {\n        vertical-align: top;\n    }\n\n    .dataframe thead th {\n        text-align: right;\n    }\n</style>\n<table border=\"1\" class=\"dataframe\">\n  <thead>\n    <tr style=\"text-align: right;\">\n      <th></th>\n      <th>User ID</th>\n      <th>Tweet ID</th>\n      <th>Text</th>\n      <th>Date Only</th>\n      <th>Date</th>\n      <th>lat</th>\n      <th>lon</th>\n      <th>Sentiment</th>\n      <th>Subjectivity</th>\n      <th>Haiti Mentioned</th>\n      <th>...</th>\n      <th>Pray Mentioned</th>\n      <th>Donate Mentioned</th>\n      <th>Obama Mentioned</th>\n      <th>US Mentioned</th>\n      <th>Thoughts and Prayers</th>\n      <th>Is Retweet</th>\n      <th>Is Reply</th>\n      <th>Is Directed</th>\n      <th>Hashtags Used</th>\n      <th>Directed ats</th>\n    </tr>\n  </thead>\n  <tbody>\n    <tr>\n      <th>0</th>\n      <td>22077441</td>\n      <td>9807469480</td>\n      <td>Planet earth is truely amazing!!! I love watch...</td>\n      <td>2010-02-28</td>\n      <td>2010-02-28 21:25:41</td>\n      <td>43.009815</td>\n      <td>-83.710408</td>\n      <td>0.854167</td>\n      <td>0.833333</td>\n      <td>0.0</td>\n      <td>...</td>\n      <td>0.0</td>\n      <td>0.0</td>\n      <td>0.0</td>\n      <td>0.0</td>\n      <td>0.0</td>\n      <td>0.0</td>\n      <td>0.0</td>\n      <td>False</td>\n      <td>0.0</td>\n      <td>0.0</td>\n    </tr>\n    <tr>\n      <th>1</th>\n      <td>22077441</td>\n      <td>9805735171</td>\n      <td>Aww I want someone to say this to me one day :...</td>\n      <td>2010-02-28</td>\n      <td>2010-02-28 20:44:41</td>\n      <td>43.009815</td>\n      <td>-83.710408</td>\n      <td>0.211111</td>\n      <td>0.688889</td>\n      <td>0.0</td>\n      <td>...</td>\n      <td>0.0</td>\n      <td>0.0</td>\n      <td>0.0</td>\n      <td>0.0</td>\n      <td>0.0</td>\n      <td>0.0</td>\n      <td>0.0</td>\n      <td>True</td>\n      <td>0.0</td>\n      <td>1.0</td>\n    </tr>\n    <tr>\n      <th>2</th>\n      <td>22077441</td>\n      <td>9800834089</td>\n      <td>I love these  cheetoes commercials!! Too funny...</td>\n      <td>2010-02-28</td>\n      <td>2010-02-28 18:43:00</td>\n      <td>43.009815</td>\n      <td>-83.710408</td>\n      <td>0.515625</td>\n      <td>0.800000</td>\n      <td>0.0</td>\n      <td>...</td>\n      <td>0.0</td>\n      <td>0.0</td>\n      <td>0.0</td>\n      <td>0.0</td>\n      <td>0.0</td>\n      <td>0.0</td>\n      <td>0.0</td>\n      <td>False</td>\n      <td>0.0</td>\n      <td>0.0</td>\n    </tr>\n    <tr>\n      <th>3</th>\n      <td>22077441</td>\n      <td>9797095168</td>\n      <td>Aww my lil sis got her first pattern so she ca...</td>\n      <td>2010-02-28</td>\n      <td>2010-02-28 17:09:03</td>\n      <td>43.009815</td>\n      <td>-83.710408</td>\n      <td>0.262500</td>\n      <td>0.583333</td>\n      <td>0.0</td>\n      <td>...</td>\n      <td>0.0</td>\n      <td>0.0</td>\n      <td>0.0</td>\n      <td>0.0</td>\n      <td>0.0</td>\n      <td>0.0</td>\n      <td>0.0</td>\n      <td>False</td>\n      <td>0.0</td>\n      <td>0.0</td>\n    </tr>\n    <tr>\n      <th>4</th>\n      <td>22077441</td>\n      <td>9796762943</td>\n      <td>I HATE being sick.. It sucks all of the energy...</td>\n      <td>2010-02-28</td>\n      <td>2010-02-28 17:02:09</td>\n      <td>43.009815</td>\n      <td>-83.710408</td>\n      <td>-0.604762</td>\n      <td>0.685714</td>\n      <td>0.0</td>\n      <td>...</td>\n      <td>0.0</td>\n      <td>0.0</td>\n      <td>0.0</td>\n      <td>0.0</td>\n      <td>0.0</td>\n      <td>0.0</td>\n      <td>0.0</td>\n      <td>False</td>\n      <td>0.0</td>\n      <td>0.0</td>\n    </tr>\n    <tr>\n      <th>...</th>\n      <td>...</td>\n      <td>...</td>\n      <td>...</td>\n      <td>...</td>\n      <td>...</td>\n      <td>...</td>\n      <td>...</td>\n      <td>...</td>\n      <td>...</td>\n      <td>...</td>\n      <td>...</td>\n      <td>...</td>\n      <td>...</td>\n      <td>...</td>\n      <td>...</td>\n      <td>...</td>\n      <td>...</td>\n      <td>...</td>\n      <td>...</td>\n      <td>...</td>\n      <td>...</td>\n    </tr>\n    <tr>\n      <th>2450509</th>\n      <td>73016661</td>\n      <td>8082730603</td>\n      <td>@NYCsocialit3 nun u</td>\n      <td>2010-01-22</td>\n      <td>2010-01-22 14:14:30</td>\n      <td>40.627262</td>\n      <td>-73.926384</td>\n      <td>0.000000</td>\n      <td>0.000000</td>\n      <td>0.0</td>\n      <td>...</td>\n      <td>0.0</td>\n      <td>0.0</td>\n      <td>0.0</td>\n      <td>0.0</td>\n      <td>0.0</td>\n      <td>0.0</td>\n      <td>1.0</td>\n      <td>True</td>\n      <td>0.0</td>\n      <td>1.0</td>\n    </tr>\n    <tr>\n      <th>2450510</th>\n      <td>73016661</td>\n      <td>8081316956</td>\n      <td>RT @BonesThisWorld: A trip too harlem for a fe...</td>\n      <td>2010-01-22</td>\n      <td>2010-01-22 13:28:51</td>\n      <td>40.627262</td>\n      <td>-73.926384</td>\n      <td>-0.200000</td>\n      <td>0.100000</td>\n      <td>0.0</td>\n      <td>...</td>\n      <td>0.0</td>\n      <td>0.0</td>\n      <td>0.0</td>\n      <td>0.0</td>\n      <td>0.0</td>\n      <td>1.0</td>\n      <td>0.0</td>\n      <td>True</td>\n      <td>0.0</td>\n      <td>1.0</td>\n    </tr>\n    <tr>\n      <th>2450511</th>\n      <td>73016661</td>\n      <td>8076088351</td>\n      <td>@Uniquehope was good</td>\n      <td>2010-01-22</td>\n      <td>2010-01-22 10:53:13</td>\n      <td>40.627262</td>\n      <td>-73.926384</td>\n      <td>0.700000</td>\n      <td>0.600000</td>\n      <td>0.0</td>\n      <td>...</td>\n      <td>0.0</td>\n      <td>0.0</td>\n      <td>0.0</td>\n      <td>0.0</td>\n      <td>0.0</td>\n      <td>0.0</td>\n      <td>1.0</td>\n      <td>True</td>\n      <td>0.0</td>\n      <td>1.0</td>\n    </tr>\n    <tr>\n      <th>2450512</th>\n      <td>73016661</td>\n      <td>8075627082</td>\n      <td>@DaStar6MFM lmaooo yea dat shit is crazy</td>\n      <td>2010-01-22</td>\n      <td>2010-01-22 10:40:05</td>\n      <td>40.627262</td>\n      <td>-73.926384</td>\n      <td>-0.400000</td>\n      <td>0.850000</td>\n      <td>0.0</td>\n      <td>...</td>\n      <td>0.0</td>\n      <td>0.0</td>\n      <td>0.0</td>\n      <td>0.0</td>\n      <td>0.0</td>\n      <td>0.0</td>\n      <td>1.0</td>\n      <td>True</td>\n      <td>0.0</td>\n      <td>1.0</td>\n    </tr>\n    <tr>\n      <th>2450513</th>\n      <td>73016661</td>\n      <td>8075339471</td>\n      <td>@RichKidLife lol I feel u</td>\n      <td>2010-01-22</td>\n      <td>2010-01-22 10:31:59</td>\n      <td>40.627262</td>\n      <td>-73.926384</td>\n      <td>0.800000</td>\n      <td>0.700000</td>\n      <td>0.0</td>\n      <td>...</td>\n      <td>0.0</td>\n      <td>0.0</td>\n      <td>0.0</td>\n      <td>0.0</td>\n      <td>0.0</td>\n      <td>0.0</td>\n      <td>1.0</td>\n      <td>True</td>\n      <td>0.0</td>\n      <td>1.0</td>\n    </tr>\n  </tbody>\n</table>\n<p>2450514 rows × 21 columns</p>\n</div>"
     },
     "execution_count": 30,
     "metadata": {},
     "output_type": "execute_result"
    }
   ],
   "source": [
    "tweet_data"
   ],
   "metadata": {
    "collapsed": false,
    "ExecuteTime": {
     "end_time": "2024-01-07T17:49:41.302280900Z",
     "start_time": "2024-01-07T17:49:40.043923100Z"
    }
   },
   "id": "fd88885ad1a2ec14"
  },
  {
   "cell_type": "code",
   "execution_count": 31,
   "outputs": [],
   "source": [
    "tweet_data.to_csv('Data/tweet_data.csv')"
   ],
   "metadata": {
    "collapsed": false,
    "ExecuteTime": {
     "end_time": "2024-01-07T17:50:16.438842800Z",
     "start_time": "2024-01-07T17:49:49.252749100Z"
    }
   },
   "id": "c2ce3c3b618ac4be"
  },
  {
   "cell_type": "code",
   "execution_count": 40,
   "outputs": [
    {
     "data": {
      "text/plain": "          User ID  Sentiment  Subjectivity  Haiti Mentioned  Chile Mentioned  \\\n0        22077441   0.854167      0.833333              0.0              0.0   \n1        22077441   0.211111      0.688889              0.0              0.0   \n2        22077441   0.515625      0.800000              0.0              0.0   \n3        22077441   0.262500      0.583333              0.0              0.0   \n4        22077441  -0.604762      0.685714              0.0              0.0   \n...           ...        ...           ...              ...              ...   \n2450509  73016661   0.000000      0.000000              0.0              0.0   \n2450510  73016661  -0.200000      0.100000              0.0              0.0   \n2450511  73016661   0.700000      0.600000              0.0              0.0   \n2450512  73016661  -0.400000      0.850000              0.0              0.0   \n2450513  73016661   0.800000      0.700000              0.0              0.0   \n\n         Pray Mentioned  Donate Mentioned  Obama Mentioned  US Mentioned  \\\n0                   0.0               0.0              0.0           0.0   \n1                   0.0               0.0              0.0           0.0   \n2                   0.0               0.0              0.0           0.0   \n3                   0.0               0.0              0.0           0.0   \n4                   0.0               0.0              0.0           0.0   \n...                 ...               ...              ...           ...   \n2450509             0.0               0.0              0.0           0.0   \n2450510             0.0               0.0              0.0           0.0   \n2450511             0.0               0.0              0.0           0.0   \n2450512             0.0               0.0              0.0           0.0   \n2450513             0.0               0.0              0.0           0.0   \n\n         Thoughts and Prayers  Is Retweet  Is Reply Is Directed  \\\n0                         0.0         0.0       0.0       False   \n1                         0.0         0.0       0.0        True   \n2                         0.0         0.0       0.0       False   \n3                         0.0         0.0       0.0       False   \n4                         0.0         0.0       0.0       False   \n...                       ...         ...       ...         ...   \n2450509                   0.0         0.0       1.0        True   \n2450510                   0.0         1.0       0.0        True   \n2450511                   0.0         0.0       1.0        True   \n2450512                   0.0         0.0       1.0        True   \n2450513                   0.0         0.0       1.0        True   \n\n         Hashtags Used  Directed ats  \n0                  0.0           0.0  \n1                  0.0           1.0  \n2                  0.0           0.0  \n3                  0.0           0.0  \n4                  0.0           0.0  \n...                ...           ...  \n2450509            0.0           1.0  \n2450510            0.0           1.0  \n2450511            0.0           1.0  \n2450512            0.0           1.0  \n2450513            0.0           1.0  \n\n[2450514 rows x 15 columns]",
      "text/html": "<div>\n<style scoped>\n    .dataframe tbody tr th:only-of-type {\n        vertical-align: middle;\n    }\n\n    .dataframe tbody tr th {\n        vertical-align: top;\n    }\n\n    .dataframe thead th {\n        text-align: right;\n    }\n</style>\n<table border=\"1\" class=\"dataframe\">\n  <thead>\n    <tr style=\"text-align: right;\">\n      <th></th>\n      <th>User ID</th>\n      <th>Sentiment</th>\n      <th>Subjectivity</th>\n      <th>Haiti Mentioned</th>\n      <th>Chile Mentioned</th>\n      <th>Pray Mentioned</th>\n      <th>Donate Mentioned</th>\n      <th>Obama Mentioned</th>\n      <th>US Mentioned</th>\n      <th>Thoughts and Prayers</th>\n      <th>Is Retweet</th>\n      <th>Is Reply</th>\n      <th>Is Directed</th>\n      <th>Hashtags Used</th>\n      <th>Directed ats</th>\n    </tr>\n  </thead>\n  <tbody>\n    <tr>\n      <th>0</th>\n      <td>22077441</td>\n      <td>0.854167</td>\n      <td>0.833333</td>\n      <td>0.0</td>\n      <td>0.0</td>\n      <td>0.0</td>\n      <td>0.0</td>\n      <td>0.0</td>\n      <td>0.0</td>\n      <td>0.0</td>\n      <td>0.0</td>\n      <td>0.0</td>\n      <td>False</td>\n      <td>0.0</td>\n      <td>0.0</td>\n    </tr>\n    <tr>\n      <th>1</th>\n      <td>22077441</td>\n      <td>0.211111</td>\n      <td>0.688889</td>\n      <td>0.0</td>\n      <td>0.0</td>\n      <td>0.0</td>\n      <td>0.0</td>\n      <td>0.0</td>\n      <td>0.0</td>\n      <td>0.0</td>\n      <td>0.0</td>\n      <td>0.0</td>\n      <td>True</td>\n      <td>0.0</td>\n      <td>1.0</td>\n    </tr>\n    <tr>\n      <th>2</th>\n      <td>22077441</td>\n      <td>0.515625</td>\n      <td>0.800000</td>\n      <td>0.0</td>\n      <td>0.0</td>\n      <td>0.0</td>\n      <td>0.0</td>\n      <td>0.0</td>\n      <td>0.0</td>\n      <td>0.0</td>\n      <td>0.0</td>\n      <td>0.0</td>\n      <td>False</td>\n      <td>0.0</td>\n      <td>0.0</td>\n    </tr>\n    <tr>\n      <th>3</th>\n      <td>22077441</td>\n      <td>0.262500</td>\n      <td>0.583333</td>\n      <td>0.0</td>\n      <td>0.0</td>\n      <td>0.0</td>\n      <td>0.0</td>\n      <td>0.0</td>\n      <td>0.0</td>\n      <td>0.0</td>\n      <td>0.0</td>\n      <td>0.0</td>\n      <td>False</td>\n      <td>0.0</td>\n      <td>0.0</td>\n    </tr>\n    <tr>\n      <th>4</th>\n      <td>22077441</td>\n      <td>-0.604762</td>\n      <td>0.685714</td>\n      <td>0.0</td>\n      <td>0.0</td>\n      <td>0.0</td>\n      <td>0.0</td>\n      <td>0.0</td>\n      <td>0.0</td>\n      <td>0.0</td>\n      <td>0.0</td>\n      <td>0.0</td>\n      <td>False</td>\n      <td>0.0</td>\n      <td>0.0</td>\n    </tr>\n    <tr>\n      <th>...</th>\n      <td>...</td>\n      <td>...</td>\n      <td>...</td>\n      <td>...</td>\n      <td>...</td>\n      <td>...</td>\n      <td>...</td>\n      <td>...</td>\n      <td>...</td>\n      <td>...</td>\n      <td>...</td>\n      <td>...</td>\n      <td>...</td>\n      <td>...</td>\n      <td>...</td>\n    </tr>\n    <tr>\n      <th>2450509</th>\n      <td>73016661</td>\n      <td>0.000000</td>\n      <td>0.000000</td>\n      <td>0.0</td>\n      <td>0.0</td>\n      <td>0.0</td>\n      <td>0.0</td>\n      <td>0.0</td>\n      <td>0.0</td>\n      <td>0.0</td>\n      <td>0.0</td>\n      <td>1.0</td>\n      <td>True</td>\n      <td>0.0</td>\n      <td>1.0</td>\n    </tr>\n    <tr>\n      <th>2450510</th>\n      <td>73016661</td>\n      <td>-0.200000</td>\n      <td>0.100000</td>\n      <td>0.0</td>\n      <td>0.0</td>\n      <td>0.0</td>\n      <td>0.0</td>\n      <td>0.0</td>\n      <td>0.0</td>\n      <td>0.0</td>\n      <td>1.0</td>\n      <td>0.0</td>\n      <td>True</td>\n      <td>0.0</td>\n      <td>1.0</td>\n    </tr>\n    <tr>\n      <th>2450511</th>\n      <td>73016661</td>\n      <td>0.700000</td>\n      <td>0.600000</td>\n      <td>0.0</td>\n      <td>0.0</td>\n      <td>0.0</td>\n      <td>0.0</td>\n      <td>0.0</td>\n      <td>0.0</td>\n      <td>0.0</td>\n      <td>0.0</td>\n      <td>1.0</td>\n      <td>True</td>\n      <td>0.0</td>\n      <td>1.0</td>\n    </tr>\n    <tr>\n      <th>2450512</th>\n      <td>73016661</td>\n      <td>-0.400000</td>\n      <td>0.850000</td>\n      <td>0.0</td>\n      <td>0.0</td>\n      <td>0.0</td>\n      <td>0.0</td>\n      <td>0.0</td>\n      <td>0.0</td>\n      <td>0.0</td>\n      <td>0.0</td>\n      <td>1.0</td>\n      <td>True</td>\n      <td>0.0</td>\n      <td>1.0</td>\n    </tr>\n    <tr>\n      <th>2450513</th>\n      <td>73016661</td>\n      <td>0.800000</td>\n      <td>0.700000</td>\n      <td>0.0</td>\n      <td>0.0</td>\n      <td>0.0</td>\n      <td>0.0</td>\n      <td>0.0</td>\n      <td>0.0</td>\n      <td>0.0</td>\n      <td>0.0</td>\n      <td>1.0</td>\n      <td>True</td>\n      <td>0.0</td>\n      <td>1.0</td>\n    </tr>\n  </tbody>\n</table>\n<p>2450514 rows × 15 columns</p>\n</div>"
     },
     "execution_count": 40,
     "metadata": {},
     "output_type": "execute_result"
    }
   ],
   "source": [
    "data_to_agg = tweet_data.drop(columns=['Tweet ID', 'Text', 'Date', 'Date Only', 'lat','lon'])\n",
    "data_to_agg"
   ],
   "metadata": {
    "collapsed": false,
    "ExecuteTime": {
     "end_time": "2024-01-07T17:58:45.624423800Z",
     "start_time": "2024-01-07T17:58:45.488628700Z"
    }
   },
   "id": "6aa5e964e39111b9"
  },
  {
   "cell_type": "code",
   "execution_count": 55,
   "outputs": [
    {
     "data": {
      "text/plain": "User ID\n6118         105\n64743         67\n82793        502\n608703       314\n677073       355\n            ... \n101273811    920\n102634808    674\n103497121    854\n103945034    885\n103963387    967\nName: Tweet Count, Length: 5015, dtype: int64"
     },
     "execution_count": 55,
     "metadata": {},
     "output_type": "execute_result"
    }
   ],
   "source": [
    "user_tweet_count = data_to_agg.groupby('User ID').size()\n",
    "user_tweet_count.name = \"Tweet Count\"\n",
    "user_tweet_count"
   ],
   "metadata": {
    "collapsed": false,
    "ExecuteTime": {
     "end_time": "2024-01-07T18:10:36.435958200Z",
     "start_time": "2024-01-07T18:10:36.360056Z"
    }
   },
   "id": "5244da4cb7e3e24b"
  },
  {
   "cell_type": "code",
   "execution_count": 47,
   "outputs": [
    {
     "data": {
      "text/plain": "           Haiti Mentioned  Chile Mentioned  Pray Mentioned  Donate Mentioned  \\\nUser ID                                                                         \n6118                   0.0              0.0             0.0               0.0   \n64743                  3.0              0.0             0.0               2.0   \n82793                  0.0              0.0             2.0               1.0   \n608703                 1.0              0.0             0.0               0.0   \n677073                 6.0              0.0             1.0               2.0   \n...                    ...              ...             ...               ...   \n101273811              2.0              0.0             3.0               2.0   \n102634808              0.0              4.0             4.0               0.0   \n103497121              1.0              0.0             0.0               0.0   \n103945034              0.0              0.0             0.0               0.0   \n103963387              6.0              0.0             1.0               0.0   \n\n           Obama Mentioned  US Mentioned  Thoughts and Prayers  Is Retweet  \\\nUser ID                                                                      \n6118                   0.0           0.0                   0.0         6.0   \n64743                  0.0           1.0                   0.0         4.0   \n82793                  1.0           5.0                   0.0         9.0   \n608703                 0.0           2.0                   0.0        75.0   \n677073                 4.0           7.0                   0.0         6.0   \n...                    ...           ...                   ...         ...   \n101273811              0.0           5.0                   0.0         7.0   \n102634808              0.0           1.0                   0.0        62.0   \n103497121              0.0           5.0                   0.0         5.0   \n103945034              0.0           2.0                   0.0         8.0   \n103963387              0.0           4.0                   0.0       101.0   \n\n           Is Reply Is Directed  Hashtags Used  Directed ats  \nUser ID                                                       \n6118           28.0          50           34.0          52.0  \n64743          17.0          23           12.0          27.0  \n82793         203.0         236           23.0         254.0  \n608703         94.0         221          122.0         273.0  \n677073         98.0         104           18.0         109.0  \n...             ...         ...            ...           ...  \n101273811     602.0         617           63.0         629.0  \n102634808     517.0         614           48.0         775.0  \n103497121     770.0         804           41.0         827.0  \n103945034     694.0         735            6.0         800.0  \n103963387     402.0         513           93.0         601.0  \n\n[5015 rows x 12 columns]",
      "text/html": "<div>\n<style scoped>\n    .dataframe tbody tr th:only-of-type {\n        vertical-align: middle;\n    }\n\n    .dataframe tbody tr th {\n        vertical-align: top;\n    }\n\n    .dataframe thead th {\n        text-align: right;\n    }\n</style>\n<table border=\"1\" class=\"dataframe\">\n  <thead>\n    <tr style=\"text-align: right;\">\n      <th></th>\n      <th>Haiti Mentioned</th>\n      <th>Chile Mentioned</th>\n      <th>Pray Mentioned</th>\n      <th>Donate Mentioned</th>\n      <th>Obama Mentioned</th>\n      <th>US Mentioned</th>\n      <th>Thoughts and Prayers</th>\n      <th>Is Retweet</th>\n      <th>Is Reply</th>\n      <th>Is Directed</th>\n      <th>Hashtags Used</th>\n      <th>Directed ats</th>\n    </tr>\n    <tr>\n      <th>User ID</th>\n      <th></th>\n      <th></th>\n      <th></th>\n      <th></th>\n      <th></th>\n      <th></th>\n      <th></th>\n      <th></th>\n      <th></th>\n      <th></th>\n      <th></th>\n      <th></th>\n    </tr>\n  </thead>\n  <tbody>\n    <tr>\n      <th>6118</th>\n      <td>0.0</td>\n      <td>0.0</td>\n      <td>0.0</td>\n      <td>0.0</td>\n      <td>0.0</td>\n      <td>0.0</td>\n      <td>0.0</td>\n      <td>6.0</td>\n      <td>28.0</td>\n      <td>50</td>\n      <td>34.0</td>\n      <td>52.0</td>\n    </tr>\n    <tr>\n      <th>64743</th>\n      <td>3.0</td>\n      <td>0.0</td>\n      <td>0.0</td>\n      <td>2.0</td>\n      <td>0.0</td>\n      <td>1.0</td>\n      <td>0.0</td>\n      <td>4.0</td>\n      <td>17.0</td>\n      <td>23</td>\n      <td>12.0</td>\n      <td>27.0</td>\n    </tr>\n    <tr>\n      <th>82793</th>\n      <td>0.0</td>\n      <td>0.0</td>\n      <td>2.0</td>\n      <td>1.0</td>\n      <td>1.0</td>\n      <td>5.0</td>\n      <td>0.0</td>\n      <td>9.0</td>\n      <td>203.0</td>\n      <td>236</td>\n      <td>23.0</td>\n      <td>254.0</td>\n    </tr>\n    <tr>\n      <th>608703</th>\n      <td>1.0</td>\n      <td>0.0</td>\n      <td>0.0</td>\n      <td>0.0</td>\n      <td>0.0</td>\n      <td>2.0</td>\n      <td>0.0</td>\n      <td>75.0</td>\n      <td>94.0</td>\n      <td>221</td>\n      <td>122.0</td>\n      <td>273.0</td>\n    </tr>\n    <tr>\n      <th>677073</th>\n      <td>6.0</td>\n      <td>0.0</td>\n      <td>1.0</td>\n      <td>2.0</td>\n      <td>4.0</td>\n      <td>7.0</td>\n      <td>0.0</td>\n      <td>6.0</td>\n      <td>98.0</td>\n      <td>104</td>\n      <td>18.0</td>\n      <td>109.0</td>\n    </tr>\n    <tr>\n      <th>...</th>\n      <td>...</td>\n      <td>...</td>\n      <td>...</td>\n      <td>...</td>\n      <td>...</td>\n      <td>...</td>\n      <td>...</td>\n      <td>...</td>\n      <td>...</td>\n      <td>...</td>\n      <td>...</td>\n      <td>...</td>\n    </tr>\n    <tr>\n      <th>101273811</th>\n      <td>2.0</td>\n      <td>0.0</td>\n      <td>3.0</td>\n      <td>2.0</td>\n      <td>0.0</td>\n      <td>5.0</td>\n      <td>0.0</td>\n      <td>7.0</td>\n      <td>602.0</td>\n      <td>617</td>\n      <td>63.0</td>\n      <td>629.0</td>\n    </tr>\n    <tr>\n      <th>102634808</th>\n      <td>0.0</td>\n      <td>4.0</td>\n      <td>4.0</td>\n      <td>0.0</td>\n      <td>0.0</td>\n      <td>1.0</td>\n      <td>0.0</td>\n      <td>62.0</td>\n      <td>517.0</td>\n      <td>614</td>\n      <td>48.0</td>\n      <td>775.0</td>\n    </tr>\n    <tr>\n      <th>103497121</th>\n      <td>1.0</td>\n      <td>0.0</td>\n      <td>0.0</td>\n      <td>0.0</td>\n      <td>0.0</td>\n      <td>5.0</td>\n      <td>0.0</td>\n      <td>5.0</td>\n      <td>770.0</td>\n      <td>804</td>\n      <td>41.0</td>\n      <td>827.0</td>\n    </tr>\n    <tr>\n      <th>103945034</th>\n      <td>0.0</td>\n      <td>0.0</td>\n      <td>0.0</td>\n      <td>0.0</td>\n      <td>0.0</td>\n      <td>2.0</td>\n      <td>0.0</td>\n      <td>8.0</td>\n      <td>694.0</td>\n      <td>735</td>\n      <td>6.0</td>\n      <td>800.0</td>\n    </tr>\n    <tr>\n      <th>103963387</th>\n      <td>6.0</td>\n      <td>0.0</td>\n      <td>1.0</td>\n      <td>0.0</td>\n      <td>0.0</td>\n      <td>4.0</td>\n      <td>0.0</td>\n      <td>101.0</td>\n      <td>402.0</td>\n      <td>513</td>\n      <td>93.0</td>\n      <td>601.0</td>\n    </tr>\n  </tbody>\n</table>\n<p>5015 rows × 12 columns</p>\n</div>"
     },
     "execution_count": 47,
     "metadata": {},
     "output_type": "execute_result"
    }
   ],
   "source": [
    "user_mentioned_counts = data_to_agg.drop(columns=['Subjectivity', 'Sentiment']).groupby('User ID').sum()\n",
    "user_mentioned_counts"
   ],
   "metadata": {
    "collapsed": false,
    "ExecuteTime": {
     "end_time": "2024-01-07T18:02:45.124798300Z",
     "start_time": "2024-01-07T18:02:44.711942500Z"
    }
   },
   "id": "b781626456c27135"
  },
  {
   "cell_type": "code",
   "execution_count": 50,
   "outputs": [
    {
     "data": {
      "text/plain": "           Sentiment  Subjectivity\nUser ID                           \n6118        0.091338      0.309708\n64743       0.149390      0.338032\n82793       0.107796      0.405523\n608703      0.157080      0.379523\n677073      0.037798      0.366248\n...              ...           ...\n101273811   0.176326      0.397676\n102634808   0.256659      0.572533\n103497121   0.249488      0.636456\n103945034   0.121586      0.369733\n103963387   0.164525      0.387636\n\n[5015 rows x 2 columns]",
      "text/html": "<div>\n<style scoped>\n    .dataframe tbody tr th:only-of-type {\n        vertical-align: middle;\n    }\n\n    .dataframe tbody tr th {\n        vertical-align: top;\n    }\n\n    .dataframe thead th {\n        text-align: right;\n    }\n</style>\n<table border=\"1\" class=\"dataframe\">\n  <thead>\n    <tr style=\"text-align: right;\">\n      <th></th>\n      <th>Sentiment</th>\n      <th>Subjectivity</th>\n    </tr>\n    <tr>\n      <th>User ID</th>\n      <th></th>\n      <th></th>\n    </tr>\n  </thead>\n  <tbody>\n    <tr>\n      <th>6118</th>\n      <td>0.091338</td>\n      <td>0.309708</td>\n    </tr>\n    <tr>\n      <th>64743</th>\n      <td>0.149390</td>\n      <td>0.338032</td>\n    </tr>\n    <tr>\n      <th>82793</th>\n      <td>0.107796</td>\n      <td>0.405523</td>\n    </tr>\n    <tr>\n      <th>608703</th>\n      <td>0.157080</td>\n      <td>0.379523</td>\n    </tr>\n    <tr>\n      <th>677073</th>\n      <td>0.037798</td>\n      <td>0.366248</td>\n    </tr>\n    <tr>\n      <th>...</th>\n      <td>...</td>\n      <td>...</td>\n    </tr>\n    <tr>\n      <th>101273811</th>\n      <td>0.176326</td>\n      <td>0.397676</td>\n    </tr>\n    <tr>\n      <th>102634808</th>\n      <td>0.256659</td>\n      <td>0.572533</td>\n    </tr>\n    <tr>\n      <th>103497121</th>\n      <td>0.249488</td>\n      <td>0.636456</td>\n    </tr>\n    <tr>\n      <th>103945034</th>\n      <td>0.121586</td>\n      <td>0.369733</td>\n    </tr>\n    <tr>\n      <th>103963387</th>\n      <td>0.164525</td>\n      <td>0.387636</td>\n    </tr>\n  </tbody>\n</table>\n<p>5015 rows × 2 columns</p>\n</div>"
     },
     "execution_count": 50,
     "metadata": {},
     "output_type": "execute_result"
    }
   ],
   "source": [
    "user_sentiment_avg = data_to_agg.groupby(\"User ID\")[['Sentiment','Subjectivity']].mean()\n",
    "user_sentiment_avg"
   ],
   "metadata": {
    "collapsed": false,
    "ExecuteTime": {
     "end_time": "2024-01-07T18:04:45.457296900Z",
     "start_time": "2024-01-07T18:04:45.395034300Z"
    }
   },
   "id": "523dc707182af792"
  },
  {
   "cell_type": "code",
   "execution_count": 56,
   "outputs": [
    {
     "data": {
      "text/plain": "           Sentiment  Subjectivity  Haiti Mentioned  Chile Mentioned  \\\nUser ID                                                                \n6118        0.091338      0.309708              0.0              0.0   \n64743       0.149390      0.338032              3.0              0.0   \n82793       0.107796      0.405523              0.0              0.0   \n608703      0.157080      0.379523              1.0              0.0   \n677073      0.037798      0.366248              6.0              0.0   \n...              ...           ...              ...              ...   \n101273811   0.176326      0.397676              2.0              0.0   \n102634808   0.256659      0.572533              0.0              4.0   \n103497121   0.249488      0.636456              1.0              0.0   \n103945034   0.121586      0.369733              0.0              0.0   \n103963387   0.164525      0.387636              6.0              0.0   \n\n           Pray Mentioned  Donate Mentioned  Obama Mentioned  US Mentioned  \\\nUser ID                                                                      \n6118                  0.0               0.0              0.0           0.0   \n64743                 0.0               2.0              0.0           1.0   \n82793                 2.0               1.0              1.0           5.0   \n608703                0.0               0.0              0.0           2.0   \n677073                1.0               2.0              4.0           7.0   \n...                   ...               ...              ...           ...   \n101273811             3.0               2.0              0.0           5.0   \n102634808             4.0               0.0              0.0           1.0   \n103497121             0.0               0.0              0.0           5.0   \n103945034             0.0               0.0              0.0           2.0   \n103963387             1.0               0.0              0.0           4.0   \n\n           Thoughts and Prayers  Is Retweet  Is Reply Is Directed  \\\nUser ID                                                             \n6118                        0.0         6.0      28.0          50   \n64743                       0.0         4.0      17.0          23   \n82793                       0.0         9.0     203.0         236   \n608703                      0.0        75.0      94.0         221   \n677073                      0.0         6.0      98.0         104   \n...                         ...         ...       ...         ...   \n101273811                   0.0         7.0     602.0         617   \n102634808                   0.0        62.0     517.0         614   \n103497121                   0.0         5.0     770.0         804   \n103945034                   0.0         8.0     694.0         735   \n103963387                   0.0       101.0     402.0         513   \n\n           Hashtags Used  Directed ats  Tweet Count  \nUser ID                                              \n6118                34.0          52.0          105  \n64743               12.0          27.0           67  \n82793               23.0         254.0          502  \n608703             122.0         273.0          314  \n677073              18.0         109.0          355  \n...                  ...           ...          ...  \n101273811           63.0         629.0          920  \n102634808           48.0         775.0          674  \n103497121           41.0         827.0          854  \n103945034            6.0         800.0          885  \n103963387           93.0         601.0          967  \n\n[5015 rows x 15 columns]",
      "text/html": "<div>\n<style scoped>\n    .dataframe tbody tr th:only-of-type {\n        vertical-align: middle;\n    }\n\n    .dataframe tbody tr th {\n        vertical-align: top;\n    }\n\n    .dataframe thead th {\n        text-align: right;\n    }\n</style>\n<table border=\"1\" class=\"dataframe\">\n  <thead>\n    <tr style=\"text-align: right;\">\n      <th></th>\n      <th>Sentiment</th>\n      <th>Subjectivity</th>\n      <th>Haiti Mentioned</th>\n      <th>Chile Mentioned</th>\n      <th>Pray Mentioned</th>\n      <th>Donate Mentioned</th>\n      <th>Obama Mentioned</th>\n      <th>US Mentioned</th>\n      <th>Thoughts and Prayers</th>\n      <th>Is Retweet</th>\n      <th>Is Reply</th>\n      <th>Is Directed</th>\n      <th>Hashtags Used</th>\n      <th>Directed ats</th>\n      <th>Tweet Count</th>\n    </tr>\n    <tr>\n      <th>User ID</th>\n      <th></th>\n      <th></th>\n      <th></th>\n      <th></th>\n      <th></th>\n      <th></th>\n      <th></th>\n      <th></th>\n      <th></th>\n      <th></th>\n      <th></th>\n      <th></th>\n      <th></th>\n      <th></th>\n      <th></th>\n    </tr>\n  </thead>\n  <tbody>\n    <tr>\n      <th>6118</th>\n      <td>0.091338</td>\n      <td>0.309708</td>\n      <td>0.0</td>\n      <td>0.0</td>\n      <td>0.0</td>\n      <td>0.0</td>\n      <td>0.0</td>\n      <td>0.0</td>\n      <td>0.0</td>\n      <td>6.0</td>\n      <td>28.0</td>\n      <td>50</td>\n      <td>34.0</td>\n      <td>52.0</td>\n      <td>105</td>\n    </tr>\n    <tr>\n      <th>64743</th>\n      <td>0.149390</td>\n      <td>0.338032</td>\n      <td>3.0</td>\n      <td>0.0</td>\n      <td>0.0</td>\n      <td>2.0</td>\n      <td>0.0</td>\n      <td>1.0</td>\n      <td>0.0</td>\n      <td>4.0</td>\n      <td>17.0</td>\n      <td>23</td>\n      <td>12.0</td>\n      <td>27.0</td>\n      <td>67</td>\n    </tr>\n    <tr>\n      <th>82793</th>\n      <td>0.107796</td>\n      <td>0.405523</td>\n      <td>0.0</td>\n      <td>0.0</td>\n      <td>2.0</td>\n      <td>1.0</td>\n      <td>1.0</td>\n      <td>5.0</td>\n      <td>0.0</td>\n      <td>9.0</td>\n      <td>203.0</td>\n      <td>236</td>\n      <td>23.0</td>\n      <td>254.0</td>\n      <td>502</td>\n    </tr>\n    <tr>\n      <th>608703</th>\n      <td>0.157080</td>\n      <td>0.379523</td>\n      <td>1.0</td>\n      <td>0.0</td>\n      <td>0.0</td>\n      <td>0.0</td>\n      <td>0.0</td>\n      <td>2.0</td>\n      <td>0.0</td>\n      <td>75.0</td>\n      <td>94.0</td>\n      <td>221</td>\n      <td>122.0</td>\n      <td>273.0</td>\n      <td>314</td>\n    </tr>\n    <tr>\n      <th>677073</th>\n      <td>0.037798</td>\n      <td>0.366248</td>\n      <td>6.0</td>\n      <td>0.0</td>\n      <td>1.0</td>\n      <td>2.0</td>\n      <td>4.0</td>\n      <td>7.0</td>\n      <td>0.0</td>\n      <td>6.0</td>\n      <td>98.0</td>\n      <td>104</td>\n      <td>18.0</td>\n      <td>109.0</td>\n      <td>355</td>\n    </tr>\n    <tr>\n      <th>...</th>\n      <td>...</td>\n      <td>...</td>\n      <td>...</td>\n      <td>...</td>\n      <td>...</td>\n      <td>...</td>\n      <td>...</td>\n      <td>...</td>\n      <td>...</td>\n      <td>...</td>\n      <td>...</td>\n      <td>...</td>\n      <td>...</td>\n      <td>...</td>\n      <td>...</td>\n    </tr>\n    <tr>\n      <th>101273811</th>\n      <td>0.176326</td>\n      <td>0.397676</td>\n      <td>2.0</td>\n      <td>0.0</td>\n      <td>3.0</td>\n      <td>2.0</td>\n      <td>0.0</td>\n      <td>5.0</td>\n      <td>0.0</td>\n      <td>7.0</td>\n      <td>602.0</td>\n      <td>617</td>\n      <td>63.0</td>\n      <td>629.0</td>\n      <td>920</td>\n    </tr>\n    <tr>\n      <th>102634808</th>\n      <td>0.256659</td>\n      <td>0.572533</td>\n      <td>0.0</td>\n      <td>4.0</td>\n      <td>4.0</td>\n      <td>0.0</td>\n      <td>0.0</td>\n      <td>1.0</td>\n      <td>0.0</td>\n      <td>62.0</td>\n      <td>517.0</td>\n      <td>614</td>\n      <td>48.0</td>\n      <td>775.0</td>\n      <td>674</td>\n    </tr>\n    <tr>\n      <th>103497121</th>\n      <td>0.249488</td>\n      <td>0.636456</td>\n      <td>1.0</td>\n      <td>0.0</td>\n      <td>0.0</td>\n      <td>0.0</td>\n      <td>0.0</td>\n      <td>5.0</td>\n      <td>0.0</td>\n      <td>5.0</td>\n      <td>770.0</td>\n      <td>804</td>\n      <td>41.0</td>\n      <td>827.0</td>\n      <td>854</td>\n    </tr>\n    <tr>\n      <th>103945034</th>\n      <td>0.121586</td>\n      <td>0.369733</td>\n      <td>0.0</td>\n      <td>0.0</td>\n      <td>0.0</td>\n      <td>0.0</td>\n      <td>0.0</td>\n      <td>2.0</td>\n      <td>0.0</td>\n      <td>8.0</td>\n      <td>694.0</td>\n      <td>735</td>\n      <td>6.0</td>\n      <td>800.0</td>\n      <td>885</td>\n    </tr>\n    <tr>\n      <th>103963387</th>\n      <td>0.164525</td>\n      <td>0.387636</td>\n      <td>6.0</td>\n      <td>0.0</td>\n      <td>1.0</td>\n      <td>0.0</td>\n      <td>0.0</td>\n      <td>4.0</td>\n      <td>0.0</td>\n      <td>101.0</td>\n      <td>402.0</td>\n      <td>513</td>\n      <td>93.0</td>\n      <td>601.0</td>\n      <td>967</td>\n    </tr>\n  </tbody>\n</table>\n<p>5015 rows × 15 columns</p>\n</div>"
     },
     "execution_count": 56,
     "metadata": {},
     "output_type": "execute_result"
    }
   ],
   "source": [
    "all_user_data = user_sentiment_avg.merge(user_mentioned_counts, left_on='User ID', right_on='User ID')\n",
    "all_user_data = all_user_data.merge(user_tweet_count, left_on='User ID', right_on='User ID')\n",
    "all_user_data"
   ],
   "metadata": {
    "collapsed": false,
    "ExecuteTime": {
     "end_time": "2024-01-07T18:10:41.189583900Z",
     "start_time": "2024-01-07T18:10:41.131051100Z"
    }
   },
   "id": "f840987818f8e93f"
  },
  {
   "cell_type": "code",
   "execution_count": 57,
   "outputs": [],
   "source": [
    "all_user_data.to_csv(\"Data/user_data.csv\")"
   ],
   "metadata": {
    "collapsed": false,
    "ExecuteTime": {
     "end_time": "2024-01-07T18:11:46.301441100Z",
     "start_time": "2024-01-07T18:11:46.250480200Z"
    }
   },
   "id": "a10551cc83d2d4ed"
  }
 ],
 "metadata": {
  "kernelspec": {
   "display_name": "Python 3",
   "language": "python",
   "name": "python3"
  },
  "language_info": {
   "codemirror_mode": {
    "name": "ipython",
    "version": 2
   },
   "file_extension": ".py",
   "mimetype": "text/x-python",
   "name": "python",
   "nbconvert_exporter": "python",
   "pygments_lexer": "ipython2",
   "version": "2.7.6"
  }
 },
 "nbformat": 4,
 "nbformat_minor": 5
}
