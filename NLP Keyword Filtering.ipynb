{
 "cells": [
  {
   "cell_type": "code",
   "execution_count": 2,
   "id": "initial_id",
   "metadata": {
    "collapsed": true,
    "ExecuteTime": {
     "end_time": "2024-01-07T17:10:06.273880300Z",
     "start_time": "2024-01-07T17:09:57.609923900Z"
    }
   },
   "outputs": [],
   "source": [
    "import pandas as pd\n",
    "import numpy as np\n",
    "import matplotlib.pyplot as plt\n",
    "import spacy\n",
    "import re\n",
    "from spacytextblob.spacytextblob import SpacyTextBlob\n",
    "from tqdm import tqdm\n",
    "from tqdm.auto import tqdm \n",
    "\n",
    "plt.rcParams[\"figure.figsize\"] = (12,8)\n",
    "tqdm.pandas()"
   ]
  },
  {
   "cell_type": "code",
   "execution_count": 19,
   "outputs": [
    {
     "data": {
      "text/plain": "          User ID    Tweet ID  \\\n0        22077441  9807469480   \n1        22077441  9805735171   \n2        22077441  9800834089   \n3        22077441  9797095168   \n4        22077441  9796762943   \n...           ...         ...   \n2450509  73016661  8082730603   \n2450510  73016661  8081316956   \n2450511  73016661  8076088351   \n2450512  73016661  8075627082   \n2450513  73016661  8075339471   \n\n                                                      Text  \\\n0        Planet earth is truely amazing!!! I love watch...   \n1        Aww I want someone to say this to me one day :...   \n2        I love these  cheetoes commercials!! Too funny...   \n3        Aww my lil sis got her first pattern so she ca...   \n4        I HATE being sick.. It sucks all of the energy...   \n...                                                    ...   \n2450509                                @NYCsocialit3 nun u   \n2450510  RT @BonesThisWorld: A trip too harlem for a fe...   \n2450511                               @Uniquehope was good   \n2450512           @DaStar6MFM lmaooo yea dat shit is crazy   \n2450513                          @RichKidLife lol I feel u   \n\n                        Date        lat        lon   Date Only  Sentiment  \\\n0        2010-02-28 21:25:41  43.009815 -83.710408  2010-02-28   0.854167   \n1        2010-02-28 20:44:41  43.009815 -83.710408  2010-02-28   0.211111   \n2        2010-02-28 18:43:00  43.009815 -83.710408  2010-02-28   0.515625   \n3        2010-02-28 17:09:03  43.009815 -83.710408  2010-02-28   0.262500   \n4        2010-02-28 17:02:09  43.009815 -83.710408  2010-02-28  -0.604762   \n...                      ...        ...        ...         ...        ...   \n2450509  2010-01-22 14:14:30  40.627262 -73.926384  2010-01-22   0.000000   \n2450510  2010-01-22 13:28:51  40.627262 -73.926384  2010-01-22  -0.200000   \n2450511  2010-01-22 10:53:13  40.627262 -73.926384  2010-01-22   0.700000   \n2450512  2010-01-22 10:40:05  40.627262 -73.926384  2010-01-22  -0.400000   \n2450513  2010-01-22 10:31:59  40.627262 -73.926384  2010-01-22   0.800000   \n\n         Subjectivity  \n0            0.833333  \n1            0.688889  \n2            0.800000  \n3            0.583333  \n4            0.685714  \n...               ...  \n2450509      0.000000  \n2450510      0.100000  \n2450511      0.600000  \n2450512      0.850000  \n2450513      0.700000  \n\n[2450514 rows x 9 columns]",
      "text/html": "<div>\n<style scoped>\n    .dataframe tbody tr th:only-of-type {\n        vertical-align: middle;\n    }\n\n    .dataframe tbody tr th {\n        vertical-align: top;\n    }\n\n    .dataframe thead th {\n        text-align: right;\n    }\n</style>\n<table border=\"1\" class=\"dataframe\">\n  <thead>\n    <tr style=\"text-align: right;\">\n      <th></th>\n      <th>User ID</th>\n      <th>Tweet ID</th>\n      <th>Text</th>\n      <th>Date</th>\n      <th>lat</th>\n      <th>lon</th>\n      <th>Date Only</th>\n      <th>Sentiment</th>\n      <th>Subjectivity</th>\n    </tr>\n  </thead>\n  <tbody>\n    <tr>\n      <th>0</th>\n      <td>22077441</td>\n      <td>9807469480</td>\n      <td>Planet earth is truely amazing!!! I love watch...</td>\n      <td>2010-02-28 21:25:41</td>\n      <td>43.009815</td>\n      <td>-83.710408</td>\n      <td>2010-02-28</td>\n      <td>0.854167</td>\n      <td>0.833333</td>\n    </tr>\n    <tr>\n      <th>1</th>\n      <td>22077441</td>\n      <td>9805735171</td>\n      <td>Aww I want someone to say this to me one day :...</td>\n      <td>2010-02-28 20:44:41</td>\n      <td>43.009815</td>\n      <td>-83.710408</td>\n      <td>2010-02-28</td>\n      <td>0.211111</td>\n      <td>0.688889</td>\n    </tr>\n    <tr>\n      <th>2</th>\n      <td>22077441</td>\n      <td>9800834089</td>\n      <td>I love these  cheetoes commercials!! Too funny...</td>\n      <td>2010-02-28 18:43:00</td>\n      <td>43.009815</td>\n      <td>-83.710408</td>\n      <td>2010-02-28</td>\n      <td>0.515625</td>\n      <td>0.800000</td>\n    </tr>\n    <tr>\n      <th>3</th>\n      <td>22077441</td>\n      <td>9797095168</td>\n      <td>Aww my lil sis got her first pattern so she ca...</td>\n      <td>2010-02-28 17:09:03</td>\n      <td>43.009815</td>\n      <td>-83.710408</td>\n      <td>2010-02-28</td>\n      <td>0.262500</td>\n      <td>0.583333</td>\n    </tr>\n    <tr>\n      <th>4</th>\n      <td>22077441</td>\n      <td>9796762943</td>\n      <td>I HATE being sick.. It sucks all of the energy...</td>\n      <td>2010-02-28 17:02:09</td>\n      <td>43.009815</td>\n      <td>-83.710408</td>\n      <td>2010-02-28</td>\n      <td>-0.604762</td>\n      <td>0.685714</td>\n    </tr>\n    <tr>\n      <th>...</th>\n      <td>...</td>\n      <td>...</td>\n      <td>...</td>\n      <td>...</td>\n      <td>...</td>\n      <td>...</td>\n      <td>...</td>\n      <td>...</td>\n      <td>...</td>\n    </tr>\n    <tr>\n      <th>2450509</th>\n      <td>73016661</td>\n      <td>8082730603</td>\n      <td>@NYCsocialit3 nun u</td>\n      <td>2010-01-22 14:14:30</td>\n      <td>40.627262</td>\n      <td>-73.926384</td>\n      <td>2010-01-22</td>\n      <td>0.000000</td>\n      <td>0.000000</td>\n    </tr>\n    <tr>\n      <th>2450510</th>\n      <td>73016661</td>\n      <td>8081316956</td>\n      <td>RT @BonesThisWorld: A trip too harlem for a fe...</td>\n      <td>2010-01-22 13:28:51</td>\n      <td>40.627262</td>\n      <td>-73.926384</td>\n      <td>2010-01-22</td>\n      <td>-0.200000</td>\n      <td>0.100000</td>\n    </tr>\n    <tr>\n      <th>2450511</th>\n      <td>73016661</td>\n      <td>8076088351</td>\n      <td>@Uniquehope was good</td>\n      <td>2010-01-22 10:53:13</td>\n      <td>40.627262</td>\n      <td>-73.926384</td>\n      <td>2010-01-22</td>\n      <td>0.700000</td>\n      <td>0.600000</td>\n    </tr>\n    <tr>\n      <th>2450512</th>\n      <td>73016661</td>\n      <td>8075627082</td>\n      <td>@DaStar6MFM lmaooo yea dat shit is crazy</td>\n      <td>2010-01-22 10:40:05</td>\n      <td>40.627262</td>\n      <td>-73.926384</td>\n      <td>2010-01-22</td>\n      <td>-0.400000</td>\n      <td>0.850000</td>\n    </tr>\n    <tr>\n      <th>2450513</th>\n      <td>73016661</td>\n      <td>8075339471</td>\n      <td>@RichKidLife lol I feel u</td>\n      <td>2010-01-22 10:31:59</td>\n      <td>40.627262</td>\n      <td>-73.926384</td>\n      <td>2010-01-22</td>\n      <td>0.800000</td>\n      <td>0.700000</td>\n    </tr>\n  </tbody>\n</table>\n<p>2450514 rows × 9 columns</p>\n</div>"
     },
     "execution_count": 19,
     "metadata": {},
     "output_type": "execute_result"
    }
   ],
   "source": [
    "tweet_data = pd.read_csv('Data/sentiment_analysed.csv')\n",
    "tweet_data = tweet_data.drop(columns=['Unnamed: 0','Haiti Mentioned','Chile Mentioned','Pray Mentioned','Donate Mentioned'])\n",
    "tweet_data"
   ],
   "metadata": {
    "collapsed": false,
    "ExecuteTime": {
     "end_time": "2024-01-07T17:42:48.207756600Z",
     "start_time": "2024-01-07T17:42:40.259911500Z"
    }
   },
   "id": "75e9caef017cedf8"
  },
  {
   "cell_type": "code",
   "execution_count": 20,
   "outputs": [
    {
     "data": {
      "text/plain": "          User ID    Tweet ID  \\\n0        22077441  9807469480   \n1        22077441  9805735171   \n2        22077441  9800834089   \n3        22077441  9797095168   \n4        22077441  9796762943   \n...           ...         ...   \n2450509  73016661  8082730603   \n2450510  73016661  8081316956   \n2450511  73016661  8076088351   \n2450512  73016661  8075627082   \n2450513  73016661  8075339471   \n\n                                                      Text   Date Only  \\\n0        Planet earth is truely amazing!!! I love watch...  2010-02-28   \n1        Aww I want someone to say this to me one day :...  2010-02-28   \n2        I love these  cheetoes commercials!! Too funny...  2010-02-28   \n3        Aww my lil sis got her first pattern so she ca...  2010-02-28   \n4        I HATE being sick.. It sucks all of the energy...  2010-02-28   \n...                                                    ...         ...   \n2450509                                @NYCsocialit3 nun u  2010-01-22   \n2450510  RT @BonesThisWorld: A trip too harlem for a fe...  2010-01-22   \n2450511                               @Uniquehope was good  2010-01-22   \n2450512           @DaStar6MFM lmaooo yea dat shit is crazy  2010-01-22   \n2450513                          @RichKidLife lol I feel u  2010-01-22   \n\n                        Date        lat        lon  Sentiment  Subjectivity  \n0        2010-02-28 21:25:41  43.009815 -83.710408   0.854167      0.833333  \n1        2010-02-28 20:44:41  43.009815 -83.710408   0.211111      0.688889  \n2        2010-02-28 18:43:00  43.009815 -83.710408   0.515625      0.800000  \n3        2010-02-28 17:09:03  43.009815 -83.710408   0.262500      0.583333  \n4        2010-02-28 17:02:09  43.009815 -83.710408  -0.604762      0.685714  \n...                      ...        ...        ...        ...           ...  \n2450509  2010-01-22 14:14:30  40.627262 -73.926384   0.000000      0.000000  \n2450510  2010-01-22 13:28:51  40.627262 -73.926384  -0.200000      0.100000  \n2450511  2010-01-22 10:53:13  40.627262 -73.926384   0.700000      0.600000  \n2450512  2010-01-22 10:40:05  40.627262 -73.926384  -0.400000      0.850000  \n2450513  2010-01-22 10:31:59  40.627262 -73.926384   0.800000      0.700000  \n\n[2450514 rows x 9 columns]",
      "text/html": "<div>\n<style scoped>\n    .dataframe tbody tr th:only-of-type {\n        vertical-align: middle;\n    }\n\n    .dataframe tbody tr th {\n        vertical-align: top;\n    }\n\n    .dataframe thead th {\n        text-align: right;\n    }\n</style>\n<table border=\"1\" class=\"dataframe\">\n  <thead>\n    <tr style=\"text-align: right;\">\n      <th></th>\n      <th>User ID</th>\n      <th>Tweet ID</th>\n      <th>Text</th>\n      <th>Date Only</th>\n      <th>Date</th>\n      <th>lat</th>\n      <th>lon</th>\n      <th>Sentiment</th>\n      <th>Subjectivity</th>\n    </tr>\n  </thead>\n  <tbody>\n    <tr>\n      <th>0</th>\n      <td>22077441</td>\n      <td>9807469480</td>\n      <td>Planet earth is truely amazing!!! I love watch...</td>\n      <td>2010-02-28</td>\n      <td>2010-02-28 21:25:41</td>\n      <td>43.009815</td>\n      <td>-83.710408</td>\n      <td>0.854167</td>\n      <td>0.833333</td>\n    </tr>\n    <tr>\n      <th>1</th>\n      <td>22077441</td>\n      <td>9805735171</td>\n      <td>Aww I want someone to say this to me one day :...</td>\n      <td>2010-02-28</td>\n      <td>2010-02-28 20:44:41</td>\n      <td>43.009815</td>\n      <td>-83.710408</td>\n      <td>0.211111</td>\n      <td>0.688889</td>\n    </tr>\n    <tr>\n      <th>2</th>\n      <td>22077441</td>\n      <td>9800834089</td>\n      <td>I love these  cheetoes commercials!! Too funny...</td>\n      <td>2010-02-28</td>\n      <td>2010-02-28 18:43:00</td>\n      <td>43.009815</td>\n      <td>-83.710408</td>\n      <td>0.515625</td>\n      <td>0.800000</td>\n    </tr>\n    <tr>\n      <th>3</th>\n      <td>22077441</td>\n      <td>9797095168</td>\n      <td>Aww my lil sis got her first pattern so she ca...</td>\n      <td>2010-02-28</td>\n      <td>2010-02-28 17:09:03</td>\n      <td>43.009815</td>\n      <td>-83.710408</td>\n      <td>0.262500</td>\n      <td>0.583333</td>\n    </tr>\n    <tr>\n      <th>4</th>\n      <td>22077441</td>\n      <td>9796762943</td>\n      <td>I HATE being sick.. It sucks all of the energy...</td>\n      <td>2010-02-28</td>\n      <td>2010-02-28 17:02:09</td>\n      <td>43.009815</td>\n      <td>-83.710408</td>\n      <td>-0.604762</td>\n      <td>0.685714</td>\n    </tr>\n    <tr>\n      <th>...</th>\n      <td>...</td>\n      <td>...</td>\n      <td>...</td>\n      <td>...</td>\n      <td>...</td>\n      <td>...</td>\n      <td>...</td>\n      <td>...</td>\n      <td>...</td>\n    </tr>\n    <tr>\n      <th>2450509</th>\n      <td>73016661</td>\n      <td>8082730603</td>\n      <td>@NYCsocialit3 nun u</td>\n      <td>2010-01-22</td>\n      <td>2010-01-22 14:14:30</td>\n      <td>40.627262</td>\n      <td>-73.926384</td>\n      <td>0.000000</td>\n      <td>0.000000</td>\n    </tr>\n    <tr>\n      <th>2450510</th>\n      <td>73016661</td>\n      <td>8081316956</td>\n      <td>RT @BonesThisWorld: A trip too harlem for a fe...</td>\n      <td>2010-01-22</td>\n      <td>2010-01-22 13:28:51</td>\n      <td>40.627262</td>\n      <td>-73.926384</td>\n      <td>-0.200000</td>\n      <td>0.100000</td>\n    </tr>\n    <tr>\n      <th>2450511</th>\n      <td>73016661</td>\n      <td>8076088351</td>\n      <td>@Uniquehope was good</td>\n      <td>2010-01-22</td>\n      <td>2010-01-22 10:53:13</td>\n      <td>40.627262</td>\n      <td>-73.926384</td>\n      <td>0.700000</td>\n      <td>0.600000</td>\n    </tr>\n    <tr>\n      <th>2450512</th>\n      <td>73016661</td>\n      <td>8075627082</td>\n      <td>@DaStar6MFM lmaooo yea dat shit is crazy</td>\n      <td>2010-01-22</td>\n      <td>2010-01-22 10:40:05</td>\n      <td>40.627262</td>\n      <td>-73.926384</td>\n      <td>-0.400000</td>\n      <td>0.850000</td>\n    </tr>\n    <tr>\n      <th>2450513</th>\n      <td>73016661</td>\n      <td>8075339471</td>\n      <td>@RichKidLife lol I feel u</td>\n      <td>2010-01-22</td>\n      <td>2010-01-22 10:31:59</td>\n      <td>40.627262</td>\n      <td>-73.926384</td>\n      <td>0.800000</td>\n      <td>0.700000</td>\n    </tr>\n  </tbody>\n</table>\n<p>2450514 rows × 9 columns</p>\n</div>"
     },
     "execution_count": 20,
     "metadata": {},
     "output_type": "execute_result"
    }
   ],
   "source": [
    "tweet_data = tweet_data.reindex(columns=['User ID','Tweet ID','Text','Date Only','Date','lat','lon','Sentiment','Subjectivity'])\n",
    "tweet_data"
   ],
   "metadata": {
    "collapsed": false,
    "ExecuteTime": {
     "end_time": "2024-01-07T17:43:00.576326800Z",
     "start_time": "2024-01-07T17:43:00.457406200Z"
    }
   },
   "id": "bc1c453f2063c866"
  },
  {
   "cell_type": "code",
   "execution_count": 21,
   "outputs": [],
   "source": [
    "tweet_data['Haiti Mentioned'] = tweet_data['Text'].str.count(r'Haiti|haiti')\n",
    "tweet_data['Chile Mentioned'] = tweet_data['Text'].str.count(r'Chile|chile')\n",
    "tweet_data['Pray Mentioned'] = tweet_data['Text'].str.count(r'Pray|pray')\n",
    "tweet_data['Donate Mentioned'] = tweet_data['Text'].str.count(r'Donat|donat')\n",
    "tweet_data['Obama Mentioned'] = tweet_data['Text'].str.count(r'[Oo]bama')\n",
    "tweet_data['US Mentioned'] = tweet_data['Text'].str.count(r'US|USA|America')"
   ],
   "metadata": {
    "collapsed": false,
    "ExecuteTime": {
     "end_time": "2024-01-07T17:43:20.840398500Z",
     "start_time": "2024-01-07T17:43:08.157214100Z"
    }
   },
   "id": "38356a7b115473fb"
  },
  {
   "cell_type": "code",
   "execution_count": 22,
   "outputs": [],
   "source": [
    "tweet_data['Thoughts and Prayers'] = tweet_data['Text'].str.count(r'[Tt]houghts and [Pp]rayers')"
   ],
   "metadata": {
    "collapsed": false,
    "ExecuteTime": {
     "end_time": "2024-01-07T17:43:27.026761500Z",
     "start_time": "2024-01-07T17:43:24.543408600Z"
    }
   },
   "id": "8a1c5c571377a4d1"
  },
  {
   "cell_type": "code",
   "execution_count": 26,
   "outputs": [],
   "source": [
    "tweet_data['Is Retweet'] = tweet_data['Text'].str.contains(r'^RT')\n",
    "tweet_data['Is Reply'] = tweet_data['Text'].str.contains(r'^@')\n",
    "tweet_data['Directed ats'] = tweet_data['Text'].str.count(r'@')\n",
    "tweet_data['Hashtags Used'] = tweet_data['Text'].str.count(r'#')"
   ],
   "metadata": {
    "collapsed": false,
    "ExecuteTime": {
     "end_time": "2024-01-07T17:44:19.381311600Z",
     "start_time": "2024-01-07T17:44:14.343447500Z"
    }
   },
   "id": "27932b77aba06337"
  },
  {
   "cell_type": "code",
   "execution_count": 27,
   "outputs": [
    {
     "data": {
      "text/plain": "          User ID    Tweet ID  \\\n0        22077441  9807469480   \n1        22077441  9805735171   \n2        22077441  9800834089   \n3        22077441  9797095168   \n4        22077441  9796762943   \n...           ...         ...   \n2450509  73016661  8082730603   \n2450510  73016661  8081316956   \n2450511  73016661  8076088351   \n2450512  73016661  8075627082   \n2450513  73016661  8075339471   \n\n                                                      Text   Date Only  \\\n0        Planet earth is truely amazing!!! I love watch...  2010-02-28   \n1        Aww I want someone to say this to me one day :...  2010-02-28   \n2        I love these  cheetoes commercials!! Too funny...  2010-02-28   \n3        Aww my lil sis got her first pattern so she ca...  2010-02-28   \n4        I HATE being sick.. It sucks all of the energy...  2010-02-28   \n...                                                    ...         ...   \n2450509                                @NYCsocialit3 nun u  2010-01-22   \n2450510  RT @BonesThisWorld: A trip too harlem for a fe...  2010-01-22   \n2450511                               @Uniquehope was good  2010-01-22   \n2450512           @DaStar6MFM lmaooo yea dat shit is crazy  2010-01-22   \n2450513                          @RichKidLife lol I feel u  2010-01-22   \n\n                        Date        lat        lon  Sentiment  Subjectivity  \\\n0        2010-02-28 21:25:41  43.009815 -83.710408   0.854167      0.833333   \n1        2010-02-28 20:44:41  43.009815 -83.710408   0.211111      0.688889   \n2        2010-02-28 18:43:00  43.009815 -83.710408   0.515625      0.800000   \n3        2010-02-28 17:09:03  43.009815 -83.710408   0.262500      0.583333   \n4        2010-02-28 17:02:09  43.009815 -83.710408  -0.604762      0.685714   \n...                      ...        ...        ...        ...           ...   \n2450509  2010-01-22 14:14:30  40.627262 -73.926384   0.000000      0.000000   \n2450510  2010-01-22 13:28:51  40.627262 -73.926384  -0.200000      0.100000   \n2450511  2010-01-22 10:53:13  40.627262 -73.926384   0.700000      0.600000   \n2450512  2010-01-22 10:40:05  40.627262 -73.926384  -0.400000      0.850000   \n2450513  2010-01-22 10:31:59  40.627262 -73.926384   0.800000      0.700000   \n\n         Haiti Mentioned  ...  Pray Mentioned  Donate Mentioned  \\\n0                    0.0  ...             0.0               0.0   \n1                    0.0  ...             0.0               0.0   \n2                    0.0  ...             0.0               0.0   \n3                    0.0  ...             0.0               0.0   \n4                    0.0  ...             0.0               0.0   \n...                  ...  ...             ...               ...   \n2450509              0.0  ...             0.0               0.0   \n2450510              0.0  ...             0.0               0.0   \n2450511              0.0  ...             0.0               0.0   \n2450512              0.0  ...             0.0               0.0   \n2450513              0.0  ...             0.0               0.0   \n\n         Obama Mentioned  US Mentioned  Thoughts and Prayers  Is Retweet  \\\n0                    0.0           0.0                   0.0       False   \n1                    0.0           0.0                   0.0       False   \n2                    0.0           0.0                   0.0       False   \n3                    0.0           0.0                   0.0       False   \n4                    0.0           0.0                   0.0       False   \n...                  ...           ...                   ...         ...   \n2450509              0.0           0.0                   0.0       False   \n2450510              0.0           0.0                   0.0        True   \n2450511              0.0           0.0                   0.0       False   \n2450512              0.0           0.0                   0.0       False   \n2450513              0.0           0.0                   0.0       False   \n\n        Is Reply Is Directed Hashtags Used  Directed ats  \n0          False       False           0.0           0.0  \n1          False        True           0.0           1.0  \n2          False       False           0.0           0.0  \n3          False       False           0.0           0.0  \n4          False       False           0.0           0.0  \n...          ...         ...           ...           ...  \n2450509     True        True           0.0           1.0  \n2450510    False        True           0.0           1.0  \n2450511     True        True           0.0           1.0  \n2450512     True        True           0.0           1.0  \n2450513     True        True           0.0           1.0  \n\n[2450514 rows x 21 columns]",
      "text/html": "<div>\n<style scoped>\n    .dataframe tbody tr th:only-of-type {\n        vertical-align: middle;\n    }\n\n    .dataframe tbody tr th {\n        vertical-align: top;\n    }\n\n    .dataframe thead th {\n        text-align: right;\n    }\n</style>\n<table border=\"1\" class=\"dataframe\">\n  <thead>\n    <tr style=\"text-align: right;\">\n      <th></th>\n      <th>User ID</th>\n      <th>Tweet ID</th>\n      <th>Text</th>\n      <th>Date Only</th>\n      <th>Date</th>\n      <th>lat</th>\n      <th>lon</th>\n      <th>Sentiment</th>\n      <th>Subjectivity</th>\n      <th>Haiti Mentioned</th>\n      <th>...</th>\n      <th>Pray Mentioned</th>\n      <th>Donate Mentioned</th>\n      <th>Obama Mentioned</th>\n      <th>US Mentioned</th>\n      <th>Thoughts and Prayers</th>\n      <th>Is Retweet</th>\n      <th>Is Reply</th>\n      <th>Is Directed</th>\n      <th>Hashtags Used</th>\n      <th>Directed ats</th>\n    </tr>\n  </thead>\n  <tbody>\n    <tr>\n      <th>0</th>\n      <td>22077441</td>\n      <td>9807469480</td>\n      <td>Planet earth is truely amazing!!! I love watch...</td>\n      <td>2010-02-28</td>\n      <td>2010-02-28 21:25:41</td>\n      <td>43.009815</td>\n      <td>-83.710408</td>\n      <td>0.854167</td>\n      <td>0.833333</td>\n      <td>0.0</td>\n      <td>...</td>\n      <td>0.0</td>\n      <td>0.0</td>\n      <td>0.0</td>\n      <td>0.0</td>\n      <td>0.0</td>\n      <td>False</td>\n      <td>False</td>\n      <td>False</td>\n      <td>0.0</td>\n      <td>0.0</td>\n    </tr>\n    <tr>\n      <th>1</th>\n      <td>22077441</td>\n      <td>9805735171</td>\n      <td>Aww I want someone to say this to me one day :...</td>\n      <td>2010-02-28</td>\n      <td>2010-02-28 20:44:41</td>\n      <td>43.009815</td>\n      <td>-83.710408</td>\n      <td>0.211111</td>\n      <td>0.688889</td>\n      <td>0.0</td>\n      <td>...</td>\n      <td>0.0</td>\n      <td>0.0</td>\n      <td>0.0</td>\n      <td>0.0</td>\n      <td>0.0</td>\n      <td>False</td>\n      <td>False</td>\n      <td>True</td>\n      <td>0.0</td>\n      <td>1.0</td>\n    </tr>\n    <tr>\n      <th>2</th>\n      <td>22077441</td>\n      <td>9800834089</td>\n      <td>I love these  cheetoes commercials!! Too funny...</td>\n      <td>2010-02-28</td>\n      <td>2010-02-28 18:43:00</td>\n      <td>43.009815</td>\n      <td>-83.710408</td>\n      <td>0.515625</td>\n      <td>0.800000</td>\n      <td>0.0</td>\n      <td>...</td>\n      <td>0.0</td>\n      <td>0.0</td>\n      <td>0.0</td>\n      <td>0.0</td>\n      <td>0.0</td>\n      <td>False</td>\n      <td>False</td>\n      <td>False</td>\n      <td>0.0</td>\n      <td>0.0</td>\n    </tr>\n    <tr>\n      <th>3</th>\n      <td>22077441</td>\n      <td>9797095168</td>\n      <td>Aww my lil sis got her first pattern so she ca...</td>\n      <td>2010-02-28</td>\n      <td>2010-02-28 17:09:03</td>\n      <td>43.009815</td>\n      <td>-83.710408</td>\n      <td>0.262500</td>\n      <td>0.583333</td>\n      <td>0.0</td>\n      <td>...</td>\n      <td>0.0</td>\n      <td>0.0</td>\n      <td>0.0</td>\n      <td>0.0</td>\n      <td>0.0</td>\n      <td>False</td>\n      <td>False</td>\n      <td>False</td>\n      <td>0.0</td>\n      <td>0.0</td>\n    </tr>\n    <tr>\n      <th>4</th>\n      <td>22077441</td>\n      <td>9796762943</td>\n      <td>I HATE being sick.. It sucks all of the energy...</td>\n      <td>2010-02-28</td>\n      <td>2010-02-28 17:02:09</td>\n      <td>43.009815</td>\n      <td>-83.710408</td>\n      <td>-0.604762</td>\n      <td>0.685714</td>\n      <td>0.0</td>\n      <td>...</td>\n      <td>0.0</td>\n      <td>0.0</td>\n      <td>0.0</td>\n      <td>0.0</td>\n      <td>0.0</td>\n      <td>False</td>\n      <td>False</td>\n      <td>False</td>\n      <td>0.0</td>\n      <td>0.0</td>\n    </tr>\n    <tr>\n      <th>...</th>\n      <td>...</td>\n      <td>...</td>\n      <td>...</td>\n      <td>...</td>\n      <td>...</td>\n      <td>...</td>\n      <td>...</td>\n      <td>...</td>\n      <td>...</td>\n      <td>...</td>\n      <td>...</td>\n      <td>...</td>\n      <td>...</td>\n      <td>...</td>\n      <td>...</td>\n      <td>...</td>\n      <td>...</td>\n      <td>...</td>\n      <td>...</td>\n      <td>...</td>\n      <td>...</td>\n    </tr>\n    <tr>\n      <th>2450509</th>\n      <td>73016661</td>\n      <td>8082730603</td>\n      <td>@NYCsocialit3 nun u</td>\n      <td>2010-01-22</td>\n      <td>2010-01-22 14:14:30</td>\n      <td>40.627262</td>\n      <td>-73.926384</td>\n      <td>0.000000</td>\n      <td>0.000000</td>\n      <td>0.0</td>\n      <td>...</td>\n      <td>0.0</td>\n      <td>0.0</td>\n      <td>0.0</td>\n      <td>0.0</td>\n      <td>0.0</td>\n      <td>False</td>\n      <td>True</td>\n      <td>True</td>\n      <td>0.0</td>\n      <td>1.0</td>\n    </tr>\n    <tr>\n      <th>2450510</th>\n      <td>73016661</td>\n      <td>8081316956</td>\n      <td>RT @BonesThisWorld: A trip too harlem for a fe...</td>\n      <td>2010-01-22</td>\n      <td>2010-01-22 13:28:51</td>\n      <td>40.627262</td>\n      <td>-73.926384</td>\n      <td>-0.200000</td>\n      <td>0.100000</td>\n      <td>0.0</td>\n      <td>...</td>\n      <td>0.0</td>\n      <td>0.0</td>\n      <td>0.0</td>\n      <td>0.0</td>\n      <td>0.0</td>\n      <td>True</td>\n      <td>False</td>\n      <td>True</td>\n      <td>0.0</td>\n      <td>1.0</td>\n    </tr>\n    <tr>\n      <th>2450511</th>\n      <td>73016661</td>\n      <td>8076088351</td>\n      <td>@Uniquehope was good</td>\n      <td>2010-01-22</td>\n      <td>2010-01-22 10:53:13</td>\n      <td>40.627262</td>\n      <td>-73.926384</td>\n      <td>0.700000</td>\n      <td>0.600000</td>\n      <td>0.0</td>\n      <td>...</td>\n      <td>0.0</td>\n      <td>0.0</td>\n      <td>0.0</td>\n      <td>0.0</td>\n      <td>0.0</td>\n      <td>False</td>\n      <td>True</td>\n      <td>True</td>\n      <td>0.0</td>\n      <td>1.0</td>\n    </tr>\n    <tr>\n      <th>2450512</th>\n      <td>73016661</td>\n      <td>8075627082</td>\n      <td>@DaStar6MFM lmaooo yea dat shit is crazy</td>\n      <td>2010-01-22</td>\n      <td>2010-01-22 10:40:05</td>\n      <td>40.627262</td>\n      <td>-73.926384</td>\n      <td>-0.400000</td>\n      <td>0.850000</td>\n      <td>0.0</td>\n      <td>...</td>\n      <td>0.0</td>\n      <td>0.0</td>\n      <td>0.0</td>\n      <td>0.0</td>\n      <td>0.0</td>\n      <td>False</td>\n      <td>True</td>\n      <td>True</td>\n      <td>0.0</td>\n      <td>1.0</td>\n    </tr>\n    <tr>\n      <th>2450513</th>\n      <td>73016661</td>\n      <td>8075339471</td>\n      <td>@RichKidLife lol I feel u</td>\n      <td>2010-01-22</td>\n      <td>2010-01-22 10:31:59</td>\n      <td>40.627262</td>\n      <td>-73.926384</td>\n      <td>0.800000</td>\n      <td>0.700000</td>\n      <td>0.0</td>\n      <td>...</td>\n      <td>0.0</td>\n      <td>0.0</td>\n      <td>0.0</td>\n      <td>0.0</td>\n      <td>0.0</td>\n      <td>False</td>\n      <td>True</td>\n      <td>True</td>\n      <td>0.0</td>\n      <td>1.0</td>\n    </tr>\n  </tbody>\n</table>\n<p>2450514 rows × 21 columns</p>\n</div>"
     },
     "execution_count": 27,
     "metadata": {},
     "output_type": "execute_result"
    }
   ],
   "source": [
    "tweet_data"
   ],
   "metadata": {
    "collapsed": false,
    "ExecuteTime": {
     "end_time": "2024-01-07T17:44:22.055033300Z",
     "start_time": "2024-01-07T17:44:20.581820Z"
    }
   },
   "id": "fd88885ad1a2ec14"
  },
  {
   "cell_type": "code",
   "execution_count": 28,
   "outputs": [],
   "source": [
    "tweet_data.to_csv('Data/tweet_data.csv')"
   ],
   "metadata": {
    "collapsed": false,
    "ExecuteTime": {
     "end_time": "2024-01-07T17:45:43.622614800Z",
     "start_time": "2024-01-07T17:45:14.287567200Z"
    }
   },
   "id": "c2ce3c3b618ac4be"
  }
 ],
 "metadata": {
  "kernelspec": {
   "display_name": "Python 3",
   "language": "python",
   "name": "python3"
  },
  "language_info": {
   "codemirror_mode": {
    "name": "ipython",
    "version": 2
   },
   "file_extension": ".py",
   "mimetype": "text/x-python",
   "name": "python",
   "nbconvert_exporter": "python",
   "pygments_lexer": "ipython2",
   "version": "2.7.6"
  }
 },
 "nbformat": 4,
 "nbformat_minor": 5
}
